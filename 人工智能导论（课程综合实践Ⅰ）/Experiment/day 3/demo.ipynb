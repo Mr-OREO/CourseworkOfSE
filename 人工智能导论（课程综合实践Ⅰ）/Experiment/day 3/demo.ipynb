{
 "cells": [
  {
   "cell_type": "code",
   "execution_count": 3,
   "metadata": {},
   "outputs": [
    {
     "name": "stdout",
     "output_type": "stream",
     "text": [
      "[[3], [1], [5], [2], [4]]\n",
      "[[2.8], [0.9], [5], [2.1], [4.3]]\n"
     ]
    }
   ],
   "source": [
    "# Parameters\n",
    "learning_rate = 0.01\n",
    "training_epochs = 1000\n",
    "display_step = 50\n",
    "\n",
    "x=[[3],[1],[5],[2],[4]]\n",
    "y=[[2.8],[0.9],[5],[2.1],[4.3]]\n",
    "print(x)\n",
    "print(y)"
   ]
  },
  {
   "cell_type": "code",
   "execution_count": 13,
   "metadata": {},
   "outputs": [
    {
     "name": "stdout",
     "output_type": "stream",
     "text": [
      "[[3.]\n",
      " [1.]\n",
      " [5.]\n",
      " [2.]\n",
      " [4.]]\n",
      "[[2.8]\n",
      " [0.9]\n",
      " [5. ]\n",
      " [2.1]\n",
      " [4.3]]\n"
     ]
    }
   ],
   "source": [
    "import numpy as np\n",
    "import tensorflow as tf\n",
    "\n",
    "#data process\n",
    "x=np.asarray(x,dtype=np.float32)\n",
    "print(x)\n",
    "y=np.asarray(y,dtype=np.float32)\n",
    "print(y)"
   ]
  },
  {
   "cell_type": "code",
   "execution_count": 14,
   "metadata": {},
   "outputs": [],
   "source": [
    "#data input\n",
    "x_input=tf.placeholder(tf.float32,(None,1))\n",
    "y_input=tf.placeholder(tf.float32,(None,1))\n",
    "\n",
    "#model\n",
    "w=tf.Variable(np.random.rand(1,1),dtype=tf.float32)\n",
    "b=tf.Variable(np.random.rand(1,),dtype=tf.float32)\n",
    "\n",
    "pred=tf.add(tf.matmul(x_input,w),b)\n",
    "\n",
    "#define loss\n",
    "loss=tf.reduce_mean(tf.pow(pred-y_input,2))\n",
    "\n",
    "#define optimization\n",
    "optim=tf.train.GradientDescentOptimizer(learning_rate).minimize(loss)"
   ]
  },
  {
   "cell_type": "code",
   "execution_count": 15,
   "metadata": {},
   "outputs": [
    {
     "name": "stdout",
     "output_type": "stream",
     "text": [
      "Epoch   50 cost: 0.086702369\n",
      "Epoch  100 cost: 0.069378629\n",
      "Epoch  150 cost: 0.057031643\n",
      "Epoch  200 cost: 0.048231758\n",
      "Epoch  250 cost: 0.041959882\n",
      "Epoch  300 cost: 0.037489824\n",
      "Epoch  350 cost: 0.034303933\n",
      "Epoch  400 cost: 0.032033313\n",
      "Epoch  450 cost: 0.030414943\n",
      "Epoch  500 cost: 0.029261559\n",
      "Epoch  550 cost: 0.028439466\n",
      "Epoch  600 cost: 0.027853575\n",
      "Epoch  650 cost: 0.027435999\n",
      "Epoch  700 cost: 0.027138349\n",
      "Epoch  750 cost: 0.026926253\n",
      "Epoch  800 cost: 0.026775062\n",
      "Epoch  850 cost: 0.026667342\n",
      "Epoch  900 cost: 0.026590526\n",
      "Epoch  950 cost: 0.026535815\n",
      "Epoch 1000 cost: 0.026496777\n",
      "Optimization Finished!\n",
      "Training modal w: 1.03363, b: -0.07702\n"
     ]
    }
   ],
   "source": [
    "#define session\n",
    "with tf.Session() as sess:\n",
    "    sess.run(tf.global_variables_initializer())\n",
    "    sess.run(tf.local_variables_initializer())\n",
    "\n",
    "    #start train model\n",
    "    for epoch in range(training_epochs):\n",
    "        pred_y,l,_=sess.run([pred,loss,optim],feed_dict={x_input:x,y_input:y})\n",
    "        # Display logs per epoch step\n",
    "        if (epoch + 1) % display_step == 0:\n",
    "            print(\"Epoch {:4d} cost: {:.9f}\".format((epoch + 1),l))\n",
    "    print(\"Optimization Finished!\")\n",
    "    final_w=np.squeeze(sess.run(w))\n",
    "    final_b=np.squeeze(sess.run(b))\n",
    "    print(\"Training modal w: {:.5f}, b: {:.5f}\".format(final_w,final_b))"
   ]
  },
  {
   "cell_type": "code",
   "execution_count": 17,
   "metadata": {},
   "outputs": [
    {
     "data": {
      "image/png": "[encoded data removed]",
      "text/plain": [
       "<Figure size 432x288 with 1 Axes>"
      ]
     },
     "metadata": {
      "needs_background": "light"
     },
     "output_type": "display_data"
    }
   ],
   "source": [
    "#show your result\n",
    "pred_y=final_w*x+final_b\n",
    "import matplotlib.pyplot as plt\n",
    "%matplotlib inline\n",
    "plt.plot(x,y,'ro',x,pred_y,'b')\n",
    "plt.show()"
   ]
  }
 ],
 "metadata": {
  "kernelspec": {
   "display_name": "Python [conda env:py37]",
   "language": "python",
   "name": "conda-env-py37-py"
  },
  "language_info": {
   "codemirror_mode": {
    "name": "ipython",
    "version": 3
   },
   "file_extension": ".py",
   "mimetype": "text/x-python",
   "name": "python",
   "nbconvert_exporter": "python",
   "pygments_lexer": "ipython3",
   "version": "3.7.3"
  }
 },
 "nbformat": 4,
 "nbformat_minor": 1
}
